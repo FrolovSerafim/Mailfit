{
 "cells": [
  {
   "cell_type": "markdown",
   "id": "d4c48a13",
   "metadata": {},
   "source": [
    "### Загрузка библиотеки и подключение таблицы"
   ]
  },
  {
   "cell_type": "code",
   "execution_count": 154,
   "id": "5589d059",
   "metadata": {},
   "outputs": [],
   "source": [
    "import pandas as pd\n",
    "df = pd.read_csv('https://docs.google.com/spreadsheets/d/e/2PACX-1vTaSyz0UyaRz0NqPrDmEZHUtnlxVsyHnAC668x7Yc7ZNBwNUFqmJCReYcwlI6TIfwHMimRaqQictl7C/pub?gid=0&single=true&output=csv')"
   ]
  },
  {
   "cell_type": "markdown",
   "id": "98e72b2c",
   "metadata": {},
   "source": [
    "### Перевод значений в нужный тип"
   ]
  },
  {
   "cell_type": "code",
   "execution_count": 155,
   "id": "a5ebead8",
   "metadata": {
    "scrolled": true
   },
   "outputs": [],
   "source": [
    "for column in ['Отправлено', 'Баунсы (Все ошибки)', 'Открытия', 'Клики', 'Отписки', 'Доставлено']:\n",
    "    df[column] = df[column].str.replace('\\xa0', '').astype(int)"
   ]
  },
  {
   "cell_type": "markdown",
   "id": "9acc43ff",
   "metadata": {},
   "source": [
    "## Расчет основных метрик и добавление их в общую таблицу"
   ]
  },
  {
   "cell_type": "code",
   "execution_count": 156,
   "id": "3f5ed7c6",
   "metadata": {},
   "outputs": [],
   "source": [
    "df['Delivery rate'] = df.apply(lambda row: round((row['Отправлено'] - row['Баунсы (Все ошибки)']) / row['Отправлено'] * 100, 2), axis=1)\n",
    "df['Open rate'] = df.apply(lambda row: round((row['Открытия'] / (row['Отправлено'] - row['Баунсы (Все ошибки)']) * 100), 2), axis=1)\n",
    "df['Click to Open rate'] = df.apply(lambda row: round((row['Клики'] / row['Открытия']) * 100, 2), axis=1)\n",
    "df['Unsubscribe rate'] = df.apply(lambda row: round((row['Отписки'] / row['Доставлено']) * 100, 2), axis=1)"
   ]
  },
  {
   "cell_type": "markdown",
   "id": "54b079df",
   "metadata": {},
   "source": [
    "## Выявление лучшей темы\n",
    "\n",
    "Лучшей темой считаю ту, которая: \n",
    "1. Продала наш продукт (пользователь сделал клик).\n",
    "2. Меньше повлияла на количество отписок от рассылки."
   ]
  },
  {
   "cell_type": "code",
   "execution_count": 157,
   "id": "0a5f8039",
   "metadata": {
    "scrolled": true
   },
   "outputs": [
    {
     "data": {
      "text/html": [
       "<div>\n",
       "<style scoped>\n",
       "    .dataframe tbody tr th:only-of-type {\n",
       "        vertical-align: middle;\n",
       "    }\n",
       "\n",
       "    .dataframe tbody tr th {\n",
       "        vertical-align: top;\n",
       "    }\n",
       "\n",
       "    .dataframe thead th {\n",
       "        text-align: right;\n",
       "    }\n",
       "</style>\n",
       "<table border=\"1\" class=\"dataframe\">\n",
       "  <thead>\n",
       "    <tr style=\"text-align: right;\">\n",
       "      <th></th>\n",
       "      <th>Дата</th>\n",
       "      <th>Тема письма</th>\n",
       "      <th>Click to Open rate</th>\n",
       "      <th>Unsubscribe rate</th>\n",
       "    </tr>\n",
       "  </thead>\n",
       "  <tbody>\n",
       "    <tr>\n",
       "      <th>144</th>\n",
       "      <td>13.01.2022</td>\n",
       "      <td>Тема письма 211</td>\n",
       "      <td>12.0</td>\n",
       "      <td>0.15</td>\n",
       "    </tr>\n",
       "    <tr>\n",
       "      <th>158</th>\n",
       "      <td>19.01.2022</td>\n",
       "      <td>Тема письма 216</td>\n",
       "      <td>12.0</td>\n",
       "      <td>0.15</td>\n",
       "    </tr>\n",
       "  </tbody>\n",
       "</table>\n",
       "</div>"
      ],
      "text/plain": [
       "           Дата     Тема письма   Click to Open rate  Unsubscribe rate\n",
       "144  13.01.2022  Тема письма 211                12.0              0.15\n",
       "158  19.01.2022  Тема письма 216                12.0              0.15"
      ]
     },
     "execution_count": 157,
     "metadata": {},
     "output_type": "execute_result"
    }
   ],
   "source": [
    "# Вывожу 2 лучшие темы, так как их показатели одинаковые\n",
    "df[['Дата', 'Тема письма ', 'Click to Open rate', 'Unsubscribe rate']].sort_values(['Click to Open rate', 'Unsubscribe rate'], ascending=[False, True]).head(2)"
   ]
  },
  {
   "cell_type": "markdown",
   "id": "466f6f0f",
   "metadata": {},
   "source": [
    "## Выявление лучшего дня недели (для планирования рассылок)\n",
    "\n",
    "Лучшим днем считаю тот, в который: \n",
    "1. Больше пользователей ознакомились с продуктом/темой (открыли письма).\n",
    "2. Больше пользователей купили продукт (сделали клик).\n",
    "3. Меньше пользователей отписалось от рассылки."
   ]
  },
  {
   "cell_type": "markdown",
   "id": "f4f35c7c",
   "metadata": {},
   "source": [
    "### Создание таблицы с показателями по дням недели"
   ]
  },
  {
   "cell_type": "code",
   "execution_count": 158,
   "id": "012fd246",
   "metadata": {},
   "outputs": [],
   "source": [
    "mail_by_dayweek = df.groupby('День недели.1', as_index = False).agg({'Отправлено' : 'sum', 'Баунсы (Все ошибки)' : 'sum', 'Открытия' : 'sum', 'Клики' : 'sum', 'Отписки' : 'sum', 'Доставлено' : 'sum'})"
   ]
  },
  {
   "cell_type": "markdown",
   "id": "48ae8098",
   "metadata": {},
   "source": [
    "### Расчет нужных метрик и добавление их в таблицу"
   ]
  },
  {
   "cell_type": "code",
   "execution_count": 159,
   "id": "3ef2cbf4",
   "metadata": {
    "scrolled": true
   },
   "outputs": [],
   "source": [
    "mail_by_dayweek['Open rate'] = mail_by_dayweek.apply(lambda row: round((row['Открытия'] / (row['Отправлено'] - row['Баунсы (Все ошибки)']) * 100), 2), axis=1)\n",
    "mail_by_dayweek['Click to Open rate'] = mail_by_dayweek.apply(lambda row: round((row['Клики'] / row['Открытия']) * 100, 2), axis=1)\n",
    "mail_by_dayweek['Unsubscribe rate'] = mail_by_dayweek.apply(lambda row: round((row['Отписки'] / row['Доставлено']) * 100, 2), axis=1)"
   ]
  },
  {
   "cell_type": "markdown",
   "id": "be83058f",
   "metadata": {},
   "source": [
    "### Сортировка и вывод"
   ]
  },
  {
   "cell_type": "code",
   "execution_count": 160,
   "id": "683c006b",
   "metadata": {},
   "outputs": [
    {
     "data": {
      "text/html": [
       "<div>\n",
       "<style scoped>\n",
       "    .dataframe tbody tr th:only-of-type {\n",
       "        vertical-align: middle;\n",
       "    }\n",
       "\n",
       "    .dataframe tbody tr th {\n",
       "        vertical-align: top;\n",
       "    }\n",
       "\n",
       "    .dataframe thead th {\n",
       "        text-align: right;\n",
       "    }\n",
       "</style>\n",
       "<table border=\"1\" class=\"dataframe\">\n",
       "  <thead>\n",
       "    <tr style=\"text-align: right;\">\n",
       "      <th></th>\n",
       "      <th>День недели.1</th>\n",
       "      <th>Open rate</th>\n",
       "      <th>Click to Open rate</th>\n",
       "      <th>Unsubscribe rate</th>\n",
       "    </tr>\n",
       "  </thead>\n",
       "  <tbody>\n",
       "    <tr>\n",
       "      <th>2</th>\n",
       "      <td>03-среда</td>\n",
       "      <td>14.28</td>\n",
       "      <td>8.39</td>\n",
       "      <td>1.25</td>\n",
       "    </tr>\n",
       "  </tbody>\n",
       "</table>\n",
       "</div>"
      ],
      "text/plain": [
       "  День недели.1  Open rate  Click to Open rate  Unsubscribe rate\n",
       "2      03-среда      14.28                8.39              1.25"
      ]
     },
     "execution_count": 160,
     "metadata": {},
     "output_type": "execute_result"
    }
   ],
   "source": [
    "mail_by_dayweek[['День недели.1', 'Open rate', 'Click to Open rate', 'Unsubscribe rate']].sort_values(['Open rate', 'Click to Open rate', 'Unsubscribe rate'], ascending=[False, False, True]).head(1)"
   ]
  }
 ],
 "metadata": {
  "kernelspec": {
   "display_name": "Python 3 (ipykernel)",
   "language": "python",
   "name": "python3"
  },
  "language_info": {
   "codemirror_mode": {
    "name": "ipython",
    "version": 3
   },
   "file_extension": ".py",
   "mimetype": "text/x-python",
   "name": "python",
   "nbconvert_exporter": "python",
   "pygments_lexer": "ipython3",
   "version": "3.11.5"
  }
 },
 "nbformat": 4,
 "nbformat_minor": 5
}
